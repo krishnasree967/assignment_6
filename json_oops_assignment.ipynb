{
 "cells": [
  {
   "cell_type": "code",
   "execution_count": 21,
   "metadata": {},
   "outputs": [
    {
     "name": "stdout",
     "output_type": "stream",
     "text": [
      "Name: virat, DOB: 05-11-1988, Height: 5.9, City: Delhi, State: Delhi\n",
      "Name: kl rahul, DOB: 18-04-1992, Height: 5.5, City: Bangalore, State: Karnakata\n",
      "Name: surya kumar, DOB: 14-09-1990, Height: 5.1, City: Bombay, State: Maharashtra\n",
      "\n",
      " Indian States and Capitals JSON file created successfully.\n"
     ]
    }
   ],
   "source": [
    "# Assignment-1 :\n",
    "\n",
    "import json\n",
    "\n",
    "class Employee:\n",
    "    def __init__(self, name, dob, height, city, state):\n",
    "        self.name = name\n",
    "        self.dob = dob\n",
    "        self.height = height\n",
    "        self.city = city\n",
    "        self.state = state\n",
    "\n",
    "    def __str__(self):\n",
    "        return f\"Name: {self.name}, DOB: {self.dob}, Height: {self.height}, City: {self.city}, State: {self.state}\"\n",
    "\n",
    "\n",
    "employee_list = []\n",
    "\n",
    "with open('employee.json', 'r') as file:\n",
    "    data = json.load(file)\n",
    "    for employee_data in data['employees']:\n",
    "        employee_object = Employee(**employee_data)\n",
    "        employee_list.append(employee_object)\n",
    "\n",
    "for employee in employee_list:\n",
    "    print(employee)\n",
    "\n",
    "\n",
    " # Question-2 :\n",
    "       \n",
    "indian_states_capitals = {\n",
    "    \"Anantapur\": \"Andhra pradesh\",\n",
    "    \"Hyderabad\": \"Telangana\",\n",
    "    \"Rajastan\": \"Jaipur\",\n",
    "    \"Haryana\": \"Chandigarh\",\n",
    "    \"Goa\": \"Panaji\",\n",
    "    \"Karnataka\": \"Bangalore\"\n",
    "}\n",
    "\n",
    "with open('states_capitals.json', 'w') as file:\n",
    "    json.dump(indian_states_capitals, file, indent=2)\n",
    "\n",
    "print(\"\\n Indian States and Capitals JSON file created successfully.\")"
   ]
  },
  {
   "cell_type": "code",
   "execution_count": 22,
   "metadata": {},
   "outputs": [
    {
     "name": "stdout",
     "output_type": "stream",
     "text": [
      "Name: Snoopy, Age: 4\n",
      "Coat Color: Brown\n",
      "Snoopy has a special skill: long jump\n",
      "Name: Charlie, Age: 5\n",
      "Coat Color: Black\n",
      "Charlie has a special skill: High jump\n"
     ]
    }
   ],
   "source": [
    "# Assignment 2:\n",
    "\n",
    "\n",
    "class Dog:\n",
    "    def __init__(self, name, age, coat_color):\n",
    "        self.name = name\n",
    "        self.age = age\n",
    "        self.coat_color = coat_color\n",
    "\n",
    "    def description(self):\n",
    "        print(f\"Name: {self.name}, Age: {self.age}\")\n",
    "\n",
    "    def get_info(self):\n",
    "        print(f\"Coat Color: {self.coat_color}\")\n",
    "\n",
    "class JackRussellTerrier(Dog):\n",
    "    def __init__(self, name, age, coat_color,specialskill):\n",
    "        super().__init__(name, age, coat_color)\n",
    "        self.special_skill =specialskill\n",
    "        \n",
    "        \n",
    "    def unique_skill(self):\n",
    "         print(f\"{self.name} has a special skill: {self.special_skill}\")  \n",
    "   \n",
    "\n",
    "class Bulldog(Dog):\n",
    "    def __init__(self, name, age, coat_color,specialskill):\n",
    "        super().__init__(name, age, coat_color)\n",
    "        self.special_skill = specialskill\n",
    "        \n",
    "\n",
    "    def unique_skill(self):\n",
    "         print(f\"{self.name} has a special skill: {self.special_skill}\")    \n",
    "\n",
    "dog1 = JackRussellTerrier(\"Snoopy\", 4, \"Brown\",\"long jump\" )\n",
    "dog2 = Bulldog(\"Charlie\", 5, \"Black\",\"High jump\")\n",
    "\n",
    "dog1.description()  \n",
    "dog1.get_info() \n",
    "dog1.unique_skill()  \n",
    "\n",
    "dog2.description()  \n",
    "dog2.get_info()     \n",
    "dog2.unique_skill() "
   ]
  }
 ],
 "metadata": {
  "kernelspec": {
   "display_name": "Python 3",
   "language": "python",
   "name": "python3"
  },
  "language_info": {
   "codemirror_mode": {
    "name": "ipython",
    "version": 3
   },
   "file_extension": ".py",
   "mimetype": "text/x-python",
   "name": "python",
   "nbconvert_exporter": "python",
   "pygments_lexer": "ipython3",
   "version": "3.12.1"
  }
 },
 "nbformat": 4,
 "nbformat_minor": 2
}
